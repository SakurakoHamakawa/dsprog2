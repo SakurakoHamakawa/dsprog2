{
 "cells": [
  {
   "cell_type": "code",
   "execution_count": null,
   "id": "0477cd50",
   "metadata": {},
   "outputs": [],
   "source": [
    "import requests\n",
    "from bs4 import BeautifulSoup\n",
    "\n",
    "# 1. スクレイピングしたいURLを指定\n",
    "url = 'https://example.com'\n",
    "\n",
    "# 2. サイトにリクエストを送る\n",
    "response = requests.get(url)\n",
    "\n",
    "# 3. レスポンスのステータスコードを確認（200なら成功）\n",
    "if response.status_code == 200:\n",
    "    # 4. HTMLをパース（解析）\n",
    "    soup = BeautifulSoup(response.text, 'html.parser')\n",
    "\n",
    "    # 5. タイトルタグを取得して表示\n",
    "    title = soup.find('title')\n",
    "    print(\"ページのタイトル:\", title.text)\n",
    "\n",
    "    # 6. 特定の要素（例：すべてのリンク）を取得して表示\n",
    "    links = soup.find_all('a')\n",
    "    for link in links:\n",
    "        href = link.get('href')\n",
    "        print(href)\n",
    "else:\n",
    "    print(\"ページの取得に失敗しました。ステータスコード:\", response.status_code)"
   ]
  }
 ],
 "metadata": {
  "language_info": {
   "name": "python"
  }
 },
 "nbformat": 4,
 "nbformat_minor": 5
}
